{
  "nbformat": 4,
  "nbformat_minor": 0,
  "metadata": {
    "colab": {
      "name": "Analysis.ipynb",
      "provenance": [],
      "collapsed_sections": []
    },
    "kernelspec": {
      "name": "python3",
      "display_name": "Python 3"
    },
    "accelerator": "GPU"
  },
  "cells": [
    {
      "cell_type": "code",
      "metadata": {
        "id": "n_iDU7x-9jpP",
        "colab_type": "code",
        "outputId": "8c3e77cb-ec1f-4d06-d64f-b622340712c8",
        "colab": {
          "base_uri": "https://localhost:8080/",
          "height": 125
        }
      },
      "source": [
        "# 구글 드라이버 이용\n",
        "from google.colab import drive\n",
        "\n",
        "drive.mount('/content/gdrive')"
      ],
      "execution_count": 0,
      "outputs": [
        {
          "output_type": "stream",
          "text": [
            "Go to this URL in a browser: https://accounts.google.com/o/oauth2/auth?client_id=947318989803-6bn6qk8qdgf4n4g3pfee6491hc0brc4i.apps.googleusercontent.com&redirect_uri=urn%3aietf%3awg%3aoauth%3a2.0%3aoob&response_type=code&scope=email%20https%3a%2f%2fwww.googleapis.com%2fauth%2fdocs.test%20https%3a%2f%2fwww.googleapis.com%2fauth%2fdrive%20https%3a%2f%2fwww.googleapis.com%2fauth%2fdrive.photos.readonly%20https%3a%2f%2fwww.googleapis.com%2fauth%2fpeopleapi.readonly\n",
            "\n",
            "Enter your authorization code:\n",
            "··········\n",
            "Mounted at /content/gdrive\n"
          ],
          "name": "stdout"
        }
      ]
    },
    {
      "cell_type": "code",
      "metadata": {
        "id": "gp9YiA0GGgZv",
        "colab_type": "code",
        "colab": {}
      },
      "source": [
        "#필요 라이브러리 임포트\n",
        "from IPython.display import display\n",
        "import numpy as np\n",
        "import matplotlib.pyplot as plt\n",
        "import pandas as pd\n",
        "from sklearn.model_selection import train_test_split\n",
        "import warnings\n",
        "warnings.filterwarnings(action='ignore')\n",
        "plt.rcParams['axes.unicode_minus'] = False\n",
        "from sklearn.preprocessing import minmax_scale\n",
        "from sklearn.preprocessing import LabelEncoder\n",
        "from sklearn.model_selection import KFold\n",
        "from sklearn.preprocessing import OneHotEncoder\n",
        "import seaborn as sns"
      ],
      "execution_count": 0,
      "outputs": []
    },
    {
      "cell_type": "code",
      "metadata": {
        "id": "omcLWVrg9-Ei",
        "colab_type": "code",
        "colab": {}
      },
      "source": [
        "# 파일 불러오기 예시\n",
        "# pd.read_csv('/content/gdrive/My Drive/Colab Notebooks/train.csv')\n",
        "\n",
        "# 4319\n",
        "train_dt = pd.read_csv('/content/gdrive/My Drive/Colab Notebooks/train.csv').set_index('id')\n",
        "test_dt = pd.read_csv('/content/gdrive/My Drive/Colab Notebooks/test.csv').set_index('id')"
      ],
      "execution_count": 0,
      "outputs": []
    },
    {
      "cell_type": "code",
      "metadata": {
        "id": "zt78mUVdGovc",
        "colab_type": "code",
        "outputId": "af2f5dca-bbe3-42c5-ec69-28be7990dec9",
        "colab": {
          "base_uri": "https://localhost:8080/",
          "height": 174
        }
      },
      "source": [
        "print(train_dt.shape)\n",
        "train_dt.head(2)"
      ],
      "execution_count": 0,
      "outputs": [
        {
          "output_type": "stream",
          "text": [
            "(4752, 59)\n"
          ],
          "name": "stdout"
        },
        {
          "output_type": "execute_result",
          "data": {
            "text/html": [
              "<div>\n",
              "<style scoped>\n",
              "    .dataframe tbody tr th:only-of-type {\n",
              "        vertical-align: middle;\n",
              "    }\n",
              "\n",
              "    .dataframe tbody tr th {\n",
              "        vertical-align: top;\n",
              "    }\n",
              "\n",
              "    .dataframe thead th {\n",
              "        text-align: right;\n",
              "    }\n",
              "</style>\n",
              "<table border=\"1\" class=\"dataframe\">\n",
              "  <thead>\n",
              "    <tr style=\"text-align: right;\">\n",
              "      <th></th>\n",
              "      <th>X00</th>\n",
              "      <th>X01</th>\n",
              "      <th>X02</th>\n",
              "      <th>X03</th>\n",
              "      <th>X04</th>\n",
              "      <th>X05</th>\n",
              "      <th>X06</th>\n",
              "      <th>X07</th>\n",
              "      <th>X08</th>\n",
              "      <th>X09</th>\n",
              "      <th>X10</th>\n",
              "      <th>X11</th>\n",
              "      <th>X12</th>\n",
              "      <th>X13</th>\n",
              "      <th>X14</th>\n",
              "      <th>X15</th>\n",
              "      <th>X16</th>\n",
              "      <th>X17</th>\n",
              "      <th>X18</th>\n",
              "      <th>X19</th>\n",
              "      <th>X20</th>\n",
              "      <th>X21</th>\n",
              "      <th>X22</th>\n",
              "      <th>X23</th>\n",
              "      <th>X24</th>\n",
              "      <th>X25</th>\n",
              "      <th>X26</th>\n",
              "      <th>X27</th>\n",
              "      <th>X28</th>\n",
              "      <th>X29</th>\n",
              "      <th>X30</th>\n",
              "      <th>X31</th>\n",
              "      <th>X32</th>\n",
              "      <th>X33</th>\n",
              "      <th>X34</th>\n",
              "      <th>X35</th>\n",
              "      <th>X36</th>\n",
              "      <th>X37</th>\n",
              "      <th>X38</th>\n",
              "      <th>X39</th>\n",
              "      <th>Y00</th>\n",
              "      <th>Y01</th>\n",
              "      <th>Y02</th>\n",
              "      <th>Y03</th>\n",
              "      <th>Y04</th>\n",
              "      <th>Y05</th>\n",
              "      <th>Y06</th>\n",
              "      <th>Y07</th>\n",
              "      <th>Y08</th>\n",
              "      <th>Y09</th>\n",
              "      <th>Y10</th>\n",
              "      <th>Y11</th>\n",
              "      <th>Y12</th>\n",
              "      <th>Y13</th>\n",
              "      <th>Y14</th>\n",
              "      <th>Y15</th>\n",
              "      <th>Y16</th>\n",
              "      <th>Y17</th>\n",
              "      <th>Y18</th>\n",
              "    </tr>\n",
              "    <tr>\n",
              "      <th>id</th>\n",
              "      <th></th>\n",
              "      <th></th>\n",
              "      <th></th>\n",
              "      <th></th>\n",
              "      <th></th>\n",
              "      <th></th>\n",
              "      <th></th>\n",
              "      <th></th>\n",
              "      <th></th>\n",
              "      <th></th>\n",
              "      <th></th>\n",
              "      <th></th>\n",
              "      <th></th>\n",
              "      <th></th>\n",
              "      <th></th>\n",
              "      <th></th>\n",
              "      <th></th>\n",
              "      <th></th>\n",
              "      <th></th>\n",
              "      <th></th>\n",
              "      <th></th>\n",
              "      <th></th>\n",
              "      <th></th>\n",
              "      <th></th>\n",
              "      <th></th>\n",
              "      <th></th>\n",
              "      <th></th>\n",
              "      <th></th>\n",
              "      <th></th>\n",
              "      <th></th>\n",
              "      <th></th>\n",
              "      <th></th>\n",
              "      <th></th>\n",
              "      <th></th>\n",
              "      <th></th>\n",
              "      <th></th>\n",
              "      <th></th>\n",
              "      <th></th>\n",
              "      <th></th>\n",
              "      <th></th>\n",
              "      <th></th>\n",
              "      <th></th>\n",
              "      <th></th>\n",
              "      <th></th>\n",
              "      <th></th>\n",
              "      <th></th>\n",
              "      <th></th>\n",
              "      <th></th>\n",
              "      <th></th>\n",
              "      <th></th>\n",
              "      <th></th>\n",
              "      <th></th>\n",
              "      <th></th>\n",
              "      <th></th>\n",
              "      <th></th>\n",
              "      <th></th>\n",
              "      <th></th>\n",
              "      <th></th>\n",
              "      <th></th>\n",
              "    </tr>\n",
              "  </thead>\n",
              "  <tbody>\n",
              "    <tr>\n",
              "      <th>0</th>\n",
              "      <td>9.7</td>\n",
              "      <td>988.8</td>\n",
              "      <td>1.2</td>\n",
              "      <td>0.6</td>\n",
              "      <td>0.0</td>\n",
              "      <td>1009.3</td>\n",
              "      <td>989.6</td>\n",
              "      <td>12.2</td>\n",
              "      <td>1009.9</td>\n",
              "      <td>1009.8</td>\n",
              "      <td>0.0</td>\n",
              "      <td>0.0</td>\n",
              "      <td>82.4</td>\n",
              "      <td>71.3</td>\n",
              "      <td>0.0</td>\n",
              "      <td>101.1</td>\n",
              "      <td>0.0</td>\n",
              "      <td>56.1</td>\n",
              "      <td>0.3</td>\n",
              "      <td>0.0</td>\n",
              "      <td>91.0</td>\n",
              "      <td>0.0</td>\n",
              "      <td>1002.5</td>\n",
              "      <td>1009.8</td>\n",
              "      <td>1.1</td>\n",
              "      <td>2.3</td>\n",
              "      <td>0.5</td>\n",
              "      <td>1008.7</td>\n",
              "      <td>12.3</td>\n",
              "      <td>1001.6</td>\n",
              "      <td>69.1</td>\n",
              "      <td>8.2</td>\n",
              "      <td>10.7</td>\n",
              "      <td>1010.1</td>\n",
              "      <td>0.0</td>\n",
              "      <td>256.4</td>\n",
              "      <td>0.0</td>\n",
              "      <td>77.2</td>\n",
              "      <td>62.6</td>\n",
              "      <td>0.0</td>\n",
              "      <td>12.5</td>\n",
              "      <td>11.5</td>\n",
              "      <td>11.0</td>\n",
              "      <td>20.0</td>\n",
              "      <td>20.0</td>\n",
              "      <td>10.5</td>\n",
              "      <td>10.0</td>\n",
              "      <td>10.5</td>\n",
              "      <td>10.0</td>\n",
              "      <td>7.0</td>\n",
              "      <td>7.5</td>\n",
              "      <td>7.0</td>\n",
              "      <td>9.0</td>\n",
              "      <td>10.0</td>\n",
              "      <td>9.5</td>\n",
              "      <td>9.0</td>\n",
              "      <td>8.0</td>\n",
              "      <td>9.0</td>\n",
              "      <td>NaN</td>\n",
              "    </tr>\n",
              "    <tr>\n",
              "      <th>1</th>\n",
              "      <td>9.3</td>\n",
              "      <td>988.9</td>\n",
              "      <td>1.7</td>\n",
              "      <td>1.9</td>\n",
              "      <td>0.0</td>\n",
              "      <td>1009.3</td>\n",
              "      <td>989.6</td>\n",
              "      <td>12.1</td>\n",
              "      <td>1010.0</td>\n",
              "      <td>1009.9</td>\n",
              "      <td>0.0</td>\n",
              "      <td>0.0</td>\n",
              "      <td>81.2</td>\n",
              "      <td>121.8</td>\n",
              "      <td>0.0</td>\n",
              "      <td>165.3</td>\n",
              "      <td>0.0</td>\n",
              "      <td>0.0</td>\n",
              "      <td>0.4</td>\n",
              "      <td>0.0</td>\n",
              "      <td>91.9</td>\n",
              "      <td>0.0</td>\n",
              "      <td>1002.5</td>\n",
              "      <td>1009.9</td>\n",
              "      <td>0.0</td>\n",
              "      <td>0.0</td>\n",
              "      <td>0.0</td>\n",
              "      <td>1008.7</td>\n",
              "      <td>12.1</td>\n",
              "      <td>1001.7</td>\n",
              "      <td>70.3</td>\n",
              "      <td>8.3</td>\n",
              "      <td>10.3</td>\n",
              "      <td>1010.1</td>\n",
              "      <td>0.0</td>\n",
              "      <td>215.4</td>\n",
              "      <td>0.0</td>\n",
              "      <td>77.3</td>\n",
              "      <td>63.5</td>\n",
              "      <td>0.0</td>\n",
              "      <td>12.5</td>\n",
              "      <td>11.0</td>\n",
              "      <td>11.0</td>\n",
              "      <td>20.0</td>\n",
              "      <td>20.0</td>\n",
              "      <td>10.0</td>\n",
              "      <td>9.5</td>\n",
              "      <td>10.0</td>\n",
              "      <td>9.5</td>\n",
              "      <td>6.5</td>\n",
              "      <td>7.5</td>\n",
              "      <td>7.0</td>\n",
              "      <td>8.5</td>\n",
              "      <td>10.0</td>\n",
              "      <td>9.5</td>\n",
              "      <td>9.0</td>\n",
              "      <td>7.5</td>\n",
              "      <td>9.0</td>\n",
              "      <td>NaN</td>\n",
              "    </tr>\n",
              "  </tbody>\n",
              "</table>\n",
              "</div>"
            ],
            "text/plain": [
              "    X00    X01  X02  X03  X04     X05  ...   Y13  Y14  Y15  Y16  Y17  Y18\n",
              "id                                     ...                               \n",
              "0   9.7  988.8  1.2  0.6  0.0  1009.3  ...  10.0  9.5  9.0  8.0  9.0  NaN\n",
              "1   9.3  988.9  1.7  1.9  0.0  1009.3  ...  10.0  9.5  9.0  7.5  9.0  NaN\n",
              "\n",
              "[2 rows x 59 columns]"
            ]
          },
          "metadata": {
            "tags": []
          },
          "execution_count": 4
        }
      ]
    },
    {
      "cell_type": "markdown",
      "metadata": {
        "id": "NYGGNiywHaY8",
        "colab_type": "text"
      },
      "source": [
        "### 분석 방법\n",
        "\n",
        "1. Y00 - Y17 값을 예측 / Y18 값과 유사한 데이터만 이용\n",
        "    - 유사한 데이터 평균을 구해 Y18과 연결\n",
        "    - 학습시키기"
      ]
    },
    {
      "cell_type": "code",
      "metadata": {
        "id": "_5oqPEPuHcma",
        "colab_type": "code",
        "colab": {}
      },
      "source": [
        "import lightgbm as lgb\n",
        "from sklearn.model_selection import cross_val_score"
      ],
      "execution_count": 0,
      "outputs": []
    },
    {
      "cell_type": "code",
      "metadata": {
        "id": "_fturObbHeq_",
        "colab_type": "code",
        "outputId": "137c3370-f321-418d-94e3-c6075b9f1fac",
        "colab": {
          "base_uri": "https://localhost:8080/",
          "height": 156
        }
      },
      "source": [
        "X_train = train_dt.iloc[:, :40]\n",
        "\n",
        "X_train.head(2)"
      ],
      "execution_count": 0,
      "outputs": [
        {
          "output_type": "execute_result",
          "data": {
            "text/html": [
              "<div>\n",
              "<style scoped>\n",
              "    .dataframe tbody tr th:only-of-type {\n",
              "        vertical-align: middle;\n",
              "    }\n",
              "\n",
              "    .dataframe tbody tr th {\n",
              "        vertical-align: top;\n",
              "    }\n",
              "\n",
              "    .dataframe thead th {\n",
              "        text-align: right;\n",
              "    }\n",
              "</style>\n",
              "<table border=\"1\" class=\"dataframe\">\n",
              "  <thead>\n",
              "    <tr style=\"text-align: right;\">\n",
              "      <th></th>\n",
              "      <th>X00</th>\n",
              "      <th>X01</th>\n",
              "      <th>X02</th>\n",
              "      <th>X03</th>\n",
              "      <th>X04</th>\n",
              "      <th>X05</th>\n",
              "      <th>X06</th>\n",
              "      <th>X07</th>\n",
              "      <th>X08</th>\n",
              "      <th>X09</th>\n",
              "      <th>X10</th>\n",
              "      <th>X11</th>\n",
              "      <th>X12</th>\n",
              "      <th>X13</th>\n",
              "      <th>X14</th>\n",
              "      <th>X15</th>\n",
              "      <th>X16</th>\n",
              "      <th>X17</th>\n",
              "      <th>X18</th>\n",
              "      <th>X19</th>\n",
              "      <th>X20</th>\n",
              "      <th>X21</th>\n",
              "      <th>X22</th>\n",
              "      <th>X23</th>\n",
              "      <th>X24</th>\n",
              "      <th>X25</th>\n",
              "      <th>X26</th>\n",
              "      <th>X27</th>\n",
              "      <th>X28</th>\n",
              "      <th>X29</th>\n",
              "      <th>X30</th>\n",
              "      <th>X31</th>\n",
              "      <th>X32</th>\n",
              "      <th>X33</th>\n",
              "      <th>X34</th>\n",
              "      <th>X35</th>\n",
              "      <th>X36</th>\n",
              "      <th>X37</th>\n",
              "      <th>X38</th>\n",
              "      <th>X39</th>\n",
              "    </tr>\n",
              "    <tr>\n",
              "      <th>id</th>\n",
              "      <th></th>\n",
              "      <th></th>\n",
              "      <th></th>\n",
              "      <th></th>\n",
              "      <th></th>\n",
              "      <th></th>\n",
              "      <th></th>\n",
              "      <th></th>\n",
              "      <th></th>\n",
              "      <th></th>\n",
              "      <th></th>\n",
              "      <th></th>\n",
              "      <th></th>\n",
              "      <th></th>\n",
              "      <th></th>\n",
              "      <th></th>\n",
              "      <th></th>\n",
              "      <th></th>\n",
              "      <th></th>\n",
              "      <th></th>\n",
              "      <th></th>\n",
              "      <th></th>\n",
              "      <th></th>\n",
              "      <th></th>\n",
              "      <th></th>\n",
              "      <th></th>\n",
              "      <th></th>\n",
              "      <th></th>\n",
              "      <th></th>\n",
              "      <th></th>\n",
              "      <th></th>\n",
              "      <th></th>\n",
              "      <th></th>\n",
              "      <th></th>\n",
              "      <th></th>\n",
              "      <th></th>\n",
              "      <th></th>\n",
              "      <th></th>\n",
              "      <th></th>\n",
              "      <th></th>\n",
              "    </tr>\n",
              "  </thead>\n",
              "  <tbody>\n",
              "    <tr>\n",
              "      <th>0</th>\n",
              "      <td>9.7</td>\n",
              "      <td>988.8</td>\n",
              "      <td>1.2</td>\n",
              "      <td>0.6</td>\n",
              "      <td>0.0</td>\n",
              "      <td>1009.3</td>\n",
              "      <td>989.6</td>\n",
              "      <td>12.2</td>\n",
              "      <td>1009.9</td>\n",
              "      <td>1009.8</td>\n",
              "      <td>0.0</td>\n",
              "      <td>0.0</td>\n",
              "      <td>82.4</td>\n",
              "      <td>71.3</td>\n",
              "      <td>0.0</td>\n",
              "      <td>101.1</td>\n",
              "      <td>0.0</td>\n",
              "      <td>56.1</td>\n",
              "      <td>0.3</td>\n",
              "      <td>0.0</td>\n",
              "      <td>91.0</td>\n",
              "      <td>0.0</td>\n",
              "      <td>1002.5</td>\n",
              "      <td>1009.8</td>\n",
              "      <td>1.1</td>\n",
              "      <td>2.3</td>\n",
              "      <td>0.5</td>\n",
              "      <td>1008.7</td>\n",
              "      <td>12.3</td>\n",
              "      <td>1001.6</td>\n",
              "      <td>69.1</td>\n",
              "      <td>8.2</td>\n",
              "      <td>10.7</td>\n",
              "      <td>1010.1</td>\n",
              "      <td>0.0</td>\n",
              "      <td>256.4</td>\n",
              "      <td>0.0</td>\n",
              "      <td>77.2</td>\n",
              "      <td>62.6</td>\n",
              "      <td>0.0</td>\n",
              "    </tr>\n",
              "    <tr>\n",
              "      <th>1</th>\n",
              "      <td>9.3</td>\n",
              "      <td>988.9</td>\n",
              "      <td>1.7</td>\n",
              "      <td>1.9</td>\n",
              "      <td>0.0</td>\n",
              "      <td>1009.3</td>\n",
              "      <td>989.6</td>\n",
              "      <td>12.1</td>\n",
              "      <td>1010.0</td>\n",
              "      <td>1009.9</td>\n",
              "      <td>0.0</td>\n",
              "      <td>0.0</td>\n",
              "      <td>81.2</td>\n",
              "      <td>121.8</td>\n",
              "      <td>0.0</td>\n",
              "      <td>165.3</td>\n",
              "      <td>0.0</td>\n",
              "      <td>0.0</td>\n",
              "      <td>0.4</td>\n",
              "      <td>0.0</td>\n",
              "      <td>91.9</td>\n",
              "      <td>0.0</td>\n",
              "      <td>1002.5</td>\n",
              "      <td>1009.9</td>\n",
              "      <td>0.0</td>\n",
              "      <td>0.0</td>\n",
              "      <td>0.0</td>\n",
              "      <td>1008.7</td>\n",
              "      <td>12.1</td>\n",
              "      <td>1001.7</td>\n",
              "      <td>70.3</td>\n",
              "      <td>8.3</td>\n",
              "      <td>10.3</td>\n",
              "      <td>1010.1</td>\n",
              "      <td>0.0</td>\n",
              "      <td>215.4</td>\n",
              "      <td>0.0</td>\n",
              "      <td>77.3</td>\n",
              "      <td>63.5</td>\n",
              "      <td>0.0</td>\n",
              "    </tr>\n",
              "  </tbody>\n",
              "</table>\n",
              "</div>"
            ],
            "text/plain": [
              "    X00    X01  X02  X03  X04     X05  ...  X34    X35  X36   X37   X38  X39\n",
              "id                                     ...                                  \n",
              "0   9.7  988.8  1.2  0.6  0.0  1009.3  ...  0.0  256.4  0.0  77.2  62.6  0.0\n",
              "1   9.3  988.9  1.7  1.9  0.0  1009.3  ...  0.0  215.4  0.0  77.3  63.5  0.0\n",
              "\n",
              "[2 rows x 40 columns]"
            ]
          },
          "metadata": {
            "tags": []
          },
          "execution_count": 6
        }
      ]
    },
    {
      "cell_type": "code",
      "metadata": {
        "id": "yTR1mB9pHgC_",
        "colab_type": "code",
        "colab": {}
      },
      "source": [
        "X_train = train_dt.iloc[:4320, :40]\n",
        "X_test = train_dt.iloc[4320:, :40]"
      ],
      "execution_count": 0,
      "outputs": []
    },
    {
      "cell_type": "code",
      "metadata": {
        "id": "vkYvd4CcHjuf",
        "colab_type": "code",
        "colab": {}
      },
      "source": [
        "# def func(num):\n",
        "#   # -17 ~ -2 / -1 : Y18\n",
        "#   print(num)\n",
        "\n",
        "#   y_train = train_dt.iloc[:4320, 40 + num]\n",
        "#   y_test = train_dt.iloc[4320:, 40 + num]\n",
        "\n",
        "#   lgb_train = lgb.Dataset(X_train, label=y_train)\n",
        "\n",
        "#   lgb_param = {\n",
        "#       \"objective\":\"regression\",\n",
        "#       \"metrics\":\"mae\",\n",
        "#       \"learning_rate\":0.01\n",
        "#   }\n",
        "\n",
        "#   print(\"cv start\")\n",
        "#   cv_result = lgb.cv(\n",
        "#       lgb_param,\n",
        "#       lgb_train,\n",
        "#       num_boost_round=99999,\n",
        "#       nfold=5,\n",
        "#       early_stopping_rounds=10,\n",
        "#       stratified=False,\n",
        "#       verbose_eval=10 \n",
        "#   )\n",
        "\n",
        "#   print(\"train start\")\n",
        "#   lgb_model = lgb.train(\n",
        "#       lgb_param,\n",
        "#       lgb_train,\n",
        "#       num_boost_round=len(cv_result[\"l1-mean\"])\n",
        "#   )\n",
        "\n",
        "#   pred = lgb_model.predict(X_test)\n",
        "\n",
        "#   return pred"
      ],
      "execution_count": 0,
      "outputs": []
    },
    {
      "cell_type": "code",
      "metadata": {
        "id": "ORP7c5OAMrCd",
        "colab_type": "code",
        "colab": {}
      },
      "source": [
        "# main = np.array([])\n",
        "\n",
        "# for i in range(0,18):\n",
        "#   pred = func(i)\n",
        "#   if i:\n",
        "#     main = np.vstack([main, pred])\n",
        "#   else:\n",
        "#     main = np.copy(pred)\n",
        "  \n",
        "# main = pd.DataFrame(main)"
      ],
      "execution_count": 0,
      "outputs": []
    },
    {
      "cell_type": "code",
      "metadata": {
        "id": "akzd7Z0XOrvR",
        "colab_type": "code",
        "colab": {}
      },
      "source": [
        "# main.to_csv('/content/gdrive/My Drive/Colab Notebooks/answer.csv')"
      ],
      "execution_count": 0,
      "outputs": []
    },
    {
      "cell_type": "code",
      "metadata": {
        "id": "Fk1rAke1WsAk",
        "colab_type": "code",
        "outputId": "afdafce2-e80f-450d-fa07-12bf7f5c0bb6",
        "colab": {
          "base_uri": "https://localhost:8080/",
          "height": 34
        }
      },
      "source": [
        "main = pd.read_csv('/content/gdrive/My Drive/Colab Notebooks/answer.csv')\n",
        "\n",
        "main = main.iloc[:, 1:].T\n",
        "\n",
        "main.shape"
      ],
      "execution_count": 0,
      "outputs": [
        {
          "output_type": "execute_result",
          "data": {
            "text/plain": [
              "(432, 18)"
            ]
          },
          "metadata": {
            "tags": []
          },
          "execution_count": 11
        }
      ]
    },
    {
      "cell_type": "code",
      "metadata": {
        "id": "kaTXLEWaXSUZ",
        "colab_type": "code",
        "colab": {}
      },
      "source": [
        "Y = train_dt.iloc[4320:,-1]\n",
        "\n",
        "Y.index = main.index"
      ],
      "execution_count": 0,
      "outputs": []
    },
    {
      "cell_type": "code",
      "metadata": {
        "id": "biKGCMDMXkkh",
        "colab_type": "code",
        "colab": {}
      },
      "source": [
        "result = pd.concat([main, Y], axis = 1)\n",
        "\n",
        "list_corr = result.corr().tail(1).T"
      ],
      "execution_count": 0,
      "outputs": []
    },
    {
      "cell_type": "code",
      "metadata": {
        "id": "RVkzes3WY09T",
        "colab_type": "code",
        "outputId": "e63ba2da-90ea-4a88-f012-86b099b1ab0f",
        "colab": {
          "base_uri": "https://localhost:8080/",
          "height": 610
        }
      },
      "source": [
        "list_mse = []\n",
        "list_mean = []\n",
        "for i in range(18):\n",
        "  tmp = (result[i] - result['Y18'])\n",
        "  list_mse.append([(tmp**2).sum()])\n",
        "  list_mean.append([tmp.mean()])\n",
        "\n",
        "pd.concat([pd.DataFrame(list_mse), pd.DataFrame(list_mean), list_corr], axis = 1)"
      ],
      "execution_count": 0,
      "outputs": [
        {
          "output_type": "execute_result",
          "data": {
            "text/html": [
              "<div>\n",
              "<style scoped>\n",
              "    .dataframe tbody tr th:only-of-type {\n",
              "        vertical-align: middle;\n",
              "    }\n",
              "\n",
              "    .dataframe tbody tr th {\n",
              "        vertical-align: top;\n",
              "    }\n",
              "\n",
              "    .dataframe thead th {\n",
              "        text-align: right;\n",
              "    }\n",
              "</style>\n",
              "<table border=\"1\" class=\"dataframe\">\n",
              "  <thead>\n",
              "    <tr style=\"text-align: right;\">\n",
              "      <th></th>\n",
              "      <th>0</th>\n",
              "      <th>0</th>\n",
              "      <th>Y18</th>\n",
              "    </tr>\n",
              "  </thead>\n",
              "  <tbody>\n",
              "    <tr>\n",
              "      <th>0</th>\n",
              "      <td>13575.717918</td>\n",
              "      <td>-3.041890</td>\n",
              "      <td>0.712467</td>\n",
              "    </tr>\n",
              "    <tr>\n",
              "      <th>1</th>\n",
              "      <td>5941.282800</td>\n",
              "      <td>0.623150</td>\n",
              "      <td>0.829174</td>\n",
              "    </tr>\n",
              "    <tr>\n",
              "      <th>2</th>\n",
              "      <td>5625.742651</td>\n",
              "      <td>0.494977</td>\n",
              "      <td>0.832368</td>\n",
              "    </tr>\n",
              "    <tr>\n",
              "      <th>3</th>\n",
              "      <td>14312.847654</td>\n",
              "      <td>-0.726485</td>\n",
              "      <td>0.428286</td>\n",
              "    </tr>\n",
              "    <tr>\n",
              "      <th>4</th>\n",
              "      <td>14449.095241</td>\n",
              "      <td>-0.603510</td>\n",
              "      <td>0.407004</td>\n",
              "    </tr>\n",
              "    <tr>\n",
              "      <th>5</th>\n",
              "      <td>10048.345054</td>\n",
              "      <td>1.279566</td>\n",
              "      <td>0.791205</td>\n",
              "    </tr>\n",
              "    <tr>\n",
              "      <th>6</th>\n",
              "      <td>3997.712553</td>\n",
              "      <td>-1.839526</td>\n",
              "      <td>0.932232</td>\n",
              "    </tr>\n",
              "    <tr>\n",
              "      <th>7</th>\n",
              "      <td>3788.741591</td>\n",
              "      <td>-1.463564</td>\n",
              "      <td>0.912251</td>\n",
              "    </tr>\n",
              "    <tr>\n",
              "      <th>8</th>\n",
              "      <td>13390.365867</td>\n",
              "      <td>1.707048</td>\n",
              "      <td>0.794422</td>\n",
              "    </tr>\n",
              "    <tr>\n",
              "      <th>9</th>\n",
              "      <td>3697.174401</td>\n",
              "      <td>-0.385231</td>\n",
              "      <td>0.913202</td>\n",
              "    </tr>\n",
              "    <tr>\n",
              "      <th>10</th>\n",
              "      <td>8188.184615</td>\n",
              "      <td>1.521624</td>\n",
              "      <td>0.901130</td>\n",
              "    </tr>\n",
              "    <tr>\n",
              "      <th>11</th>\n",
              "      <td>16667.786033</td>\n",
              "      <td>2.688550</td>\n",
              "      <td>0.888800</td>\n",
              "    </tr>\n",
              "    <tr>\n",
              "      <th>12</th>\n",
              "      <td>2712.463555</td>\n",
              "      <td>-0.882190</td>\n",
              "      <td>0.928468</td>\n",
              "    </tr>\n",
              "    <tr>\n",
              "      <th>13</th>\n",
              "      <td>8750.199279</td>\n",
              "      <td>-2.768242</td>\n",
              "      <td>0.833460</td>\n",
              "    </tr>\n",
              "    <tr>\n",
              "      <th>14</th>\n",
              "      <td>10394.123615</td>\n",
              "      <td>-2.704134</td>\n",
              "      <td>0.759496</td>\n",
              "    </tr>\n",
              "    <tr>\n",
              "      <th>15</th>\n",
              "      <td>5125.921718</td>\n",
              "      <td>-2.114631</td>\n",
              "      <td>0.903860</td>\n",
              "    </tr>\n",
              "    <tr>\n",
              "      <th>16</th>\n",
              "      <td>2941.091827</td>\n",
              "      <td>-0.294485</td>\n",
              "      <td>0.920003</td>\n",
              "    </tr>\n",
              "    <tr>\n",
              "      <th>17</th>\n",
              "      <td>4357.892150</td>\n",
              "      <td>-0.048895</td>\n",
              "      <td>0.916427</td>\n",
              "    </tr>\n",
              "    <tr>\n",
              "      <th>Y18</th>\n",
              "      <td>NaN</td>\n",
              "      <td>NaN</td>\n",
              "      <td>1.000000</td>\n",
              "    </tr>\n",
              "  </tbody>\n",
              "</table>\n",
              "</div>"
            ],
            "text/plain": [
              "                0         0       Y18\n",
              "0    13575.717918 -3.041890  0.712467\n",
              "1     5941.282800  0.623150  0.829174\n",
              "2     5625.742651  0.494977  0.832368\n",
              "3    14312.847654 -0.726485  0.428286\n",
              "4    14449.095241 -0.603510  0.407004\n",
              "5    10048.345054  1.279566  0.791205\n",
              "6     3997.712553 -1.839526  0.932232\n",
              "7     3788.741591 -1.463564  0.912251\n",
              "8    13390.365867  1.707048  0.794422\n",
              "9     3697.174401 -0.385231  0.913202\n",
              "10    8188.184615  1.521624  0.901130\n",
              "11   16667.786033  2.688550  0.888800\n",
              "12    2712.463555 -0.882190  0.928468\n",
              "13    8750.199279 -2.768242  0.833460\n",
              "14   10394.123615 -2.704134  0.759496\n",
              "15    5125.921718 -2.114631  0.903860\n",
              "16    2941.091827 -0.294485  0.920003\n",
              "17    4357.892150 -0.048895  0.916427\n",
              "Y18           NaN       NaN  1.000000"
            ]
          },
          "metadata": {
            "tags": []
          },
          "execution_count": 14
        }
      ]
    },
    {
      "cell_type": "markdown",
      "metadata": {
        "id": "Y-tXB8E0b0OU",
        "colab_type": "text"
      },
      "source": [
        "## 분석 경우의 수\n",
        "1. 상관 계수 0.9이상인 변수 평균\n",
        "2. mse 값이 낮은 변수 5개(4000이하)\n",
        "3. 상관 계수 0.9 이상인 변수에서 평균 값을 더해 줘 mse값이 낮은 변수 선택\n",
        "\n",
        "\n",
        "6,7,9,12,16"
      ]
    },
    {
      "cell_type": "code",
      "metadata": {
        "id": "_g-ko87Qx0Fu",
        "colab_type": "code",
        "colab": {}
      },
      "source": [
        "def func(data):\n",
        "  return data.mean()\n",
        "\n",
        "result_mse = {}\n",
        "lst = [6,7,9,12,16]\n",
        "\n",
        "for a in lst:\n",
        "  for b in lst:\n",
        "    for c in lst:\n",
        "      for d in lst:\n",
        "        result = 0\n",
        "        main.result = main[[a,b,c,d]].apply(func, axis = 1)\n",
        "        \n",
        "        for i in range(len(main)):\n",
        "          result += (main.result[i] - Y_18[i])**2\n",
        "\n",
        "        result_mse[str(a) + '_' + str(b) + '_'+str(c)+'_'+str(d)] = result\n",
        "\n",
        "result_mse"
      ],
      "execution_count": 0,
      "outputs": []
    },
    {
      "cell_type": "code",
      "metadata": {
        "id": "rXEDhvQl5yOu",
        "colab_type": "code",
        "outputId": "953bdc66-f365-4539-f048-a54049bcc9c8",
        "colab": {
          "base_uri": "https://localhost:8080/",
          "height": 228
        }
      },
      "source": [
        "pd.Series(result_mse).sort_values()"
      ],
      "execution_count": 0,
      "outputs": [
        {
          "output_type": "execute_result",
          "data": {
            "text/plain": [
              "16_16_12_12    2459.862921\n",
              "12_16_12_16    2459.862921\n",
              "12_12_16_16    2459.862921\n",
              "16_12_12_16    2459.862921\n",
              "16_12_16_12    2459.862921\n",
              "                  ...     \n",
              "7_6_6_6        3828.184858\n",
              "6_7_6_6        3828.184858\n",
              "6_6_6_7        3828.184858\n",
              "6_6_7_6        3828.184858\n",
              "6_6_6_6        3997.712553\n",
              "Length: 625, dtype: float64"
            ]
          },
          "metadata": {
            "tags": []
          },
          "execution_count": 119
        }
      ]
    },
    {
      "cell_type": "code",
      "metadata": {
        "id": "qhyP8XzG16o4",
        "colab_type": "code",
        "colab": {}
      },
      "source": [
        "def func(data):\n",
        "  return data.mean()\n",
        "main.result = main[[12,16]].apply(func, axis = 1)"
      ],
      "execution_count": 0,
      "outputs": []
    },
    {
      "cell_type": "code",
      "metadata": {
        "id": "b8cZPAf9zVJo",
        "colab_type": "code",
        "outputId": "a9f6bd57-c198-495c-da2b-5842d898a429",
        "colab": {
          "base_uri": "https://localhost:8080/",
          "height": 282
        }
      },
      "source": [
        "main.result.plot()\n",
        "Y_18.plot()"
      ],
      "execution_count": 0,
      "outputs": [
        {
          "output_type": "execute_result",
          "data": {
            "text/plain": [
              "<matplotlib.axes._subplots.AxesSubplot at 0x7f949090aa20>"
            ]
          },
          "metadata": {
            "tags": []
          },
          "execution_count": 125
        },
        {
          "output_type": "display_data",
          "data": {
            "image/png": "[encoded data removed]",
            "text/plain": [
              "<Figure size 432x288 with 1 Axes>"
            ]
          },
          "metadata": {
            "tags": []
          }
        }
      ]
    },
    {
      "cell_type": "code",
      "metadata": {
        "id": "OLPaUv5I-82N",
        "colab_type": "code",
        "colab": {}
      },
      "source": [
        "main.result.to_csv('/content/gdrive/My Drive/Colab Notebooks/Y_18_original.csv')"
      ],
      "execution_count": 0,
      "outputs": []
    },
    {
      "cell_type": "code",
      "metadata": {
        "id": "VXSCFE6M_J77",
        "colab_type": "code",
        "colab": {}
      },
      "source": [
        "main.result.apply(lambda x : (int(x*2))/2).to_csv('/content/gdrive/My Drive/Colab Notebooks/Y_18_rounds.csv')"
      ],
      "execution_count": 0,
      "outputs": []
    },
    {
      "cell_type": "code",
      "metadata": {
        "id": "a55kDfYJ_Swg",
        "colab_type": "code",
        "colab": {}
      },
      "source": [
        ""
      ],
      "execution_count": 0,
      "outputs": []
    }
  ]
}